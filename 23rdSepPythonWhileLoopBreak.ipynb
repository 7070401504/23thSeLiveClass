{
 "cells": [
  {
   "cell_type": "code",
   "execution_count": 1,
   "id": "361d214d-10df-4289-8478-020bccf6c23c",
   "metadata": {},
   "outputs": [
    {
     "name": "stdout",
     "output_type": "stream",
     "text": [
      "this is my first loop\n",
      "10\n",
      "9\n",
      "8\n",
      "7\n",
      "6\n",
      "5\n",
      "4\n",
      "3\n",
      "2\n",
      "1\n"
     ]
    }
   ],
   "source": [
    "while True:\n",
    "    print(\"this is my first loop\")\n",
    "    a = 10\n",
    "    while a >= 1:\n",
    "        print(a)\n",
    "        a = a - 1\n",
    "    break\n"
   ]
  },
  {
   "cell_type": "code",
   "execution_count": 2,
   "id": "fa64d760-8656-45e0-bf28-8aa3efb75174",
   "metadata": {},
   "outputs": [
    {
     "name": "stdout",
     "output_type": "stream",
     "text": [
      "15\n"
     ]
    }
   ],
   "source": [
    "s=0 \n",
    "n=1\n",
    "t=5\n",
    "while n<=t:\n",
    "    s=s+n\n",
    "    n=n+1\n",
    "print(s)"
   ]
  },
  {
   "cell_type": "code",
   "execution_count": 3,
   "id": "d612421c-056d-4e09-a666-01893c8a1c0c",
   "metadata": {},
   "outputs": [
    {
     "name": "stdout",
     "output_type": "stream",
     "text": [
      "120\n"
     ]
    }
   ],
   "source": [
    "s = 1\n",
    "n = 1 \n",
    "t = 5\n",
    "while n <= t :\n",
    "    s = s*n\n",
    "    n = n+1\n",
    "print(s)"
   ]
  },
  {
   "cell_type": "code",
   "execution_count": null,
   "id": "31db210f-a841-4faa-9d68-d4c1c0e8a466",
   "metadata": {},
   "outputs": [],
   "source": [
    "n=int(input(\"enter anumber for which you are lookingfor table\"))\n",
    "i=1\n",
    "while i<=10:\n",
    "    product=n*i\n",
    "    print(n,\"*\",i,\"=\",product)\n",
    "    i=i+1"
   ]
  },
  {
   "cell_type": "code",
   "execution_count": null,
   "id": "dadaf638-188d-47cf-a255-1f608a185123",
   "metadata": {},
   "outputs": [],
   "source": [
    "import time \n",
    "s=10\n",
    "while s>0:\n",
    "    print(s)\n",
    "    time.sleep(1)\n",
    "    s=s-1\n",
    "print(\"break time is over\")"
   ]
  },
  {
   "cell_type": "code",
   "execution_count": 1,
   "id": "9887e2d2-a00e-46cf-bff7-bb1b6492a5b9",
   "metadata": {},
   "outputs": [
    {
     "data": {
      "text/plain": [
       "8"
      ]
     },
     "execution_count": 1,
     "metadata": {},
     "output_type": "execute_result"
    }
   ],
   "source": [
    "4+4"
   ]
  },
  {
   "cell_type": "code",
   "execution_count": null,
   "id": "11c87d8a-2583-4ab4-acf6-61e05bde71e4",
   "metadata": {},
   "outputs": [
    {
     "name": "stdout",
     "output_type": "stream",
     "text": [
      "20\n"
     ]
    },
    {
     "name": "stdin",
     "output_type": "stream",
     "text": [
      "Enter your choice (1. Biscuit, 2. Chips, 3. Red Bull, 4. Coke):  4\n"
     ]
    },
    {
     "name": "stdout",
     "output_type": "stream",
     "text": [
      "Take your coke.\n",
      "Remaining balance: 20\n",
      "20\n"
     ]
    },
    {
     "name": "stdin",
     "output_type": "stream",
     "text": [
      "Enter your choice (1. Biscuit, 2. Chips, 3. Red Bull, 4. Coke):  5\n"
     ]
    },
    {
     "name": "stdout",
     "output_type": "stream",
     "text": [
      "You did not enter the correct choice.\n",
      "Remaining balance: 20\n",
      "20\n"
     ]
    }
   ],
   "source": [
    "mony_in_hamd = 20\n",
    "\n",
    "while mony_in_hamd >= 5:\n",
    "    print(mony_in_hamd)\n",
    "    choice = int(input(\"Enter your choice (1. Biscuit, 2. Chips, 3. Red Bull, 4. Coke): \"))\n",
    "\n",
    "    if choice == 1:\n",
    "        print(\"Take your biscuit.\")\n",
    "    elif choice == 2:\n",
    "        mony_in_hamd = mony_in_hamd - 5\n",
    "        print(\"Take your chips.\")\n",
    "    elif choice == 3:\n",
    "        print(\"Take your Red Bull.\")\n",
    "        mony_in_hamd = mony_in_hamd - 10\n",
    "    elif choice == 4:\n",
    "        print(\"Take your coke.\")\n",
    "    else:\n",
    "        print(\"You did not enter the correct choice.\")\n",
    "\n",
    "    print(\"Remaining balance:\", mony_in_hamd)\n",
    "\n",
    "print(\"You don't have enough balance.\")\n"
   ]
  },
  {
   "cell_type": "code",
   "execution_count": null,
   "id": "9fbe9a02-f06d-4f9c-8aca-3470b9bb2bd8",
   "metadata": {},
   "outputs": [],
   "source": [
    "import time \n",
    "s=5\n",
    "while s>0:\n",
    "    print(s)\n",
    "    time.sleep(1)\n",
    "    s=s-1\n",
    "print(\"break time is over\")"
   ]
  },
  {
   "cell_type": "code",
   "execution_count": null,
   "id": "b6b8f455-244e-4a54-b312-47c4b22a512f",
   "metadata": {},
   "outputs": [],
   "source": [
    "import time\n",
    "stop=False\n",
    "while not stop:\n",
    "    print(\"enter s to stop the time \")\n",
    "    time.sleep(3)\n",
    "    press_stop=input(\"enter s for stop\")\n",
    "if press_stop.lower()==\"s\":\n",
    "     stop=True\n",
    "print(\"stop the class is over\")"
   ]
  },
  {
   "cell_type": "code",
   "execution_count": 1,
   "id": "6bc16bb3-3fe7-4825-a8ed-0d80523ca562",
   "metadata": {},
   "outputs": [
    {
     "data": {
      "text/plain": [
       "12"
      ]
     },
     "execution_count": 1,
     "metadata": {},
     "output_type": "execute_result"
    }
   ],
   "source": [
    "6+6"
   ]
  },
  {
   "cell_type": "code",
   "execution_count": 2,
   "id": "3a94b799-63f5-4595-a816-62256a11b4aa",
   "metadata": {},
   "outputs": [
    {
     "name": "stdin",
     "output_type": "stream",
     "text": [
      "Enter your ID for the account:  shahanshah\n"
     ]
    },
    {
     "name": "stdout",
     "output_type": "stream",
     "text": [
      "Incorrect user ID. Please try again.\n"
     ]
    },
    {
     "name": "stdin",
     "output_type": "stream",
     "text": [
      "Enter your ID for the account:  dff\n"
     ]
    },
    {
     "name": "stdout",
     "output_type": "stream",
     "text": [
      "Incorrect user ID. Please try again.\n"
     ]
    },
    {
     "name": "stdin",
     "output_type": "stream",
     "text": [
      "Enter your ID for the account:  f\n"
     ]
    },
    {
     "name": "stdout",
     "output_type": "stream",
     "text": [
      "Incorrect user ID. Please try again.\n",
      "You have attempted the maximum number of times. Your account is locked.\n"
     ]
    }
   ],
   "source": [
    "user_id = \"shahanshaah\"\n",
    "password = \"7070401404\"\n",
    "counter = 1\n",
    "user_id_check = False\n",
    "\n",
    "while counter <= 3:\n",
    "    user_input_id = input(\"Enter your ID for the account: \")\n",
    "\n",
    "    if user_input_id == user_id:\n",
    "        user_id_check = True\n",
    "d\n",
    "        if user_id_check:\n",
    "            user_input_password = input(\"Enter your password for the respective user ID: \")\n",
    "\n",
    "            if user_input_password == password:\n",
    "                print(\"You have logged in successfully.\")\n",
    "                break\n",
    "            else:\n",
    "                print(\"Incorrect password. Please try again.\")\n",
    "        else:\n",
    "            print(\"User ID not recognized.\")\n",
    "    else:\n",
    "        print(\"Incorrect user ID. Please try again.\")\n",
    "\n",
    "    counter += 1\n",
    "\n",
    "print(\"You have attempted the maximum number of times. Your account is locked.\")\n"
   ]
  },
  {
   "cell_type": "code",
   "execution_count": null,
   "id": "fd37f3a7-3a76-43bb-84fb-07737e00cb2b",
   "metadata": {},
   "outputs": [],
   "source": [
    "5+5"
   ]
  },
  {
   "cell_type": "code",
   "execution_count": null,
   "id": "7263ee04-85de-4b6b-b662-eaf10cfd457a",
   "metadata": {},
   "outputs": [],
   "source": [
    "todo_list=[]\n",
    "end_of_todo=\"no\"\n",
    "while end_of_todo!=\"y\":\n",
    "    todo_item=input(\"enter your todo task\")\n",
    "    add_item =todo_list.append(todo_item)\n",
    "    end_of_todo=input(\"enter n id you want to add list or enter if do you want to add\")\n",
    "print(\"my todo list is ,todo_list\")"
   ]
  },
  {
   "cell_type": "code",
   "execution_count": null,
   "id": "e7b24ea9-86bc-4498-93bd-442cb52ea23f",
   "metadata": {},
   "outputs": [],
   "source": [
    "todo_list = []\n",
    "end_of_todo = \"no\"\n",
    "\n",
    "while end_of_todo.lower() != \"y\":\n",
    "    todo_item = input(\"Enter your todo task: \")\n",
    "    todo_list.append(todo_item)\n",
    "    end_of_todo = input(\"Enter 'n' if you want to add more to the list, or 'y' if you're done: \")\n",
    "\n",
    "print(\"Your todo list is:\", todo_list)\n"
   ]
  },
  {
   "cell_type": "code",
   "execution_count": null,
   "id": "947b97ed-0af3-46ee-bc8d-9383e586927f",
   "metadata": {},
   "outputs": [],
   "source": [
    "5+5"
   ]
  },
  {
   "cell_type": "code",
   "execution_count": null,
   "id": "6e8e73f7-3e0f-408f-bdda-de830ffc01d8",
   "metadata": {},
   "outputs": [],
   "source": [
    "def fact(n):\n",
    "    if n==0:\n",
    "        return 1\n",
    "    else :\n",
    "        return n*fact(n-1)"
   ]
  },
  {
   "cell_type": "code",
   "execution_count": null,
   "id": "17112bc9-4118-43ed-9198-8ec1ef0aaffe",
   "metadata": {},
   "outputs": [],
   "source": [
    "fact(5)"
   ]
  },
  {
   "cell_type": "code",
   "execution_count": 3,
   "id": "a49bcdeb-2ccb-49b2-a416-7ae368a333a8",
   "metadata": {},
   "outputs": [],
   "source": [
    "def fact(n):\n",
    "    if n==0:\n",
    "        return 1\n",
    "    else :\n",
    "        return n*fact(n-1)"
   ]
  },
  {
   "cell_type": "code",
   "execution_count": 4,
   "id": "2816191b-42bf-4661-8ded-79d579d275af",
   "metadata": {},
   "outputs": [
    {
     "data": {
      "text/plain": [
       "720"
      ]
     },
     "execution_count": 4,
     "metadata": {},
     "output_type": "execute_result"
    }
   ],
   "source": [
    "fact(6)"
   ]
  },
  {
   "cell_type": "code",
   "execution_count": 1,
   "id": "3875a5a1-d6c9-4ae7-9071-f5a57df868e7",
   "metadata": {},
   "outputs": [],
   "source": [
    "def fib(n):\n",
    "    if n<=1:\n",
    "        return n\n",
    "    else :\n",
    "        return fib(n-2)+fib(n-1)"
   ]
  },
  {
   "cell_type": "code",
   "execution_count": null,
   "id": "552f1407-d43c-4396-aebb-e8ff7b4bc195",
   "metadata": {},
   "outputs": [],
   "source": [
    "fib(44)"
   ]
  },
  {
   "cell_type": "code",
   "execution_count": 1,
   "id": "d8931077-2a10-4e70-ac39-86370b805cb9",
   "metadata": {},
   "outputs": [
    {
     "data": {
      "text/plain": [
       "9"
      ]
     },
     "execution_count": 1,
     "metadata": {},
     "output_type": "execute_result"
    }
   ],
   "source": [
    "4+5"
   ]
  },
  {
   "cell_type": "code",
   "execution_count": null,
   "id": "dd20b6f8-f99a-48b0-ba63-22e8946837a8",
   "metadata": {},
   "outputs": [],
   "source": []
  },
  {
   "cell_type": "code",
   "execution_count": 2,
   "id": "bbc8ae74-0bb7-444c-8c5f-b492bade94ec",
   "metadata": {},
   "outputs": [
    {
     "data": {
      "text/plain": [
       "11"
      ]
     },
     "execution_count": 2,
     "metadata": {},
     "output_type": "execute_result"
    }
   ],
   "source": [
    "5+6"
   ]
  },
  {
   "cell_type": "code",
   "execution_count": 3,
   "id": "adcf8423-5056-4608-8227-5135fd1c2145",
   "metadata": {},
   "outputs": [
    {
     "data": {
      "text/plain": [
       "9"
      ]
     },
     "execution_count": 3,
     "metadata": {},
     "output_type": "execute_result"
    }
   ],
   "source": [
    "4+5"
   ]
  },
  {
   "cell_type": "code",
   "execution_count": 4,
   "id": "5d488071-20e6-4b39-9cff-709479fa3503",
   "metadata": {},
   "outputs": [
    {
     "name": "stdout",
     "output_type": "stream",
     "text": [
      "hello\n"
     ]
    }
   ],
   "source": [
    "print(\"hello\")"
   ]
  },
  {
   "cell_type": "code",
   "execution_count": 5,
   "id": "f8212940-c703-40a5-9574-f8c64882cf4d",
   "metadata": {},
   "outputs": [
    {
     "data": {
      "text/plain": [
       "11"
      ]
     },
     "execution_count": 5,
     "metadata": {},
     "output_type": "execute_result"
    }
   ],
   "source": [
    "5+6"
   ]
  },
  {
   "cell_type": "code",
   "execution_count": 14,
   "id": "de42ca5f-ba66-45e1-83e9-2f3e6968bf21",
   "metadata": {},
   "outputs": [],
   "source": [
    "def fib(n):\n",
    "    if n<=1:\n",
    "        return n\n",
    "    else :\n",
    "        return fib(n-2)+fib(n-1)"
   ]
  },
  {
   "cell_type": "code",
   "execution_count": 15,
   "id": "531d32ea-e3f2-425f-9361-9de5097e93fe",
   "metadata": {},
   "outputs": [
    {
     "data": {
      "text/plain": [
       "5"
      ]
     },
     "execution_count": 15,
     "metadata": {},
     "output_type": "execute_result"
    }
   ],
   "source": [
    "fib(5)"
   ]
  },
  {
   "cell_type": "code",
   "execution_count": 1,
   "id": "f3fc95b2-3616-44c0-8c4e-8d41abef03fa",
   "metadata": {},
   "outputs": [
    {
     "data": {
      "text/plain": [
       "224341"
      ]
     },
     "execution_count": 1,
     "metadata": {},
     "output_type": "execute_result"
    }
   ],
   "source": [
    "224341"
   ]
  },
  {
   "cell_type": "code",
   "execution_count": 2,
   "id": "d913d246-15fa-471c-b088-9103adcc7384",
   "metadata": {},
   "outputs": [
    {
     "data": {
      "text/plain": [
       "11"
      ]
     },
     "execution_count": 2,
     "metadata": {},
     "output_type": "execute_result"
    }
   ],
   "source": [
    "5+6"
   ]
  },
  {
   "cell_type": "code",
   "execution_count": 16,
   "id": "d63ecb1b-c0a0-4969-b2af-8bd9946177a5",
   "metadata": {},
   "outputs": [],
   "source": [
    "def fib(n):\n",
    "    if n<=1:\n",
    "        return n\n",
    "    else :\n",
    "        return fib(n-2)+fib(n-1)"
   ]
  },
  {
   "cell_type": "code",
   "execution_count": 17,
   "id": "9f9a2b11-f77c-4e70-ae97-48371e688529",
   "metadata": {},
   "outputs": [
    {
     "data": {
      "text/plain": [
       "55"
      ]
     },
     "execution_count": 17,
     "metadata": {},
     "output_type": "execute_result"
    }
   ],
   "source": [
    "fib(10)"
   ]
  },
  {
   "cell_type": "code",
   "execution_count": 19,
   "id": "e7885a27-0221-46bb-ae17-83996bd02452",
   "metadata": {},
   "outputs": [
    {
     "ename": "SyntaxError",
     "evalue": "invalid syntax (1846692385.py, line 1)",
     "output_type": "error",
     "traceback": [
      "\u001b[0;36m  Cell \u001b[0;32mIn[19], line 1\u001b[0;36m\u001b[0m\n\u001b[0;31m    sum get_sum():\u001b[0m\n\u001b[0m        ^\u001b[0m\n\u001b[0;31mSyntaxError\u001b[0m\u001b[0;31m:\u001b[0m invalid syntax\n"
     ]
    }
   ],
   "source": [
    "sum get_sum():"
   ]
  },
  {
   "cell_type": "code",
   "execution_count": 20,
   "id": "ad65af5d-6dfd-4296-854f-fdc8d24d2b35",
   "metadata": {},
   "outputs": [
    {
     "data": {
      "text/plain": [
       "9"
      ]
     },
     "execution_count": 20,
     "metadata": {},
     "output_type": "execute_result"
    }
   ],
   "source": [
    "4+5"
   ]
  },
  {
   "cell_type": "code",
   "execution_count": 46,
   "id": "ab39fe42-7c1e-4535-a473-184580f966e5",
   "metadata": {},
   "outputs": [
    {
     "ename": "IndentationError",
     "evalue": "unindent does not match any outer indentation level (<tokenize>, line 6)",
     "output_type": "error",
     "traceback": [
      "\u001b[0;36m  File \u001b[0;32m<tokenize>:6\u001b[0;36m\u001b[0m\n\u001b[0;31m    return sum\u001b[0m\n\u001b[0m    ^\u001b[0m\n\u001b[0;31mIndentationError\u001b[0m\u001b[0;31m:\u001b[0m unindent does not match any outer indentation level\n"
     ]
    }
   ],
   "source": [
    "def get_sum(n):\n",
    "    sum=0\n",
    "    while n!=0:\n",
    "        sum=sum+d\n",
    "        n=n//10\n",
    "      return sum \n",
    "get_sum(123)\n",
    "       "
   ]
  },
  {
   "cell_type": "code",
   "execution_count": 51,
   "id": "290e56a1-44f4-4428-b5f1-b7d384c28cf2",
   "metadata": {},
   "outputs": [
    {
     "ename": "NameError",
     "evalue": "name 'd' is not defined",
     "output_type": "error",
     "traceback": [
      "\u001b[0;31m---------------------------------------------------------------------------\u001b[0m",
      "\u001b[0;31mNameError\u001b[0m                                 Traceback (most recent call last)",
      "Cell \u001b[0;32mIn[51], line 8\u001b[0m\n\u001b[1;32m      5\u001b[0m         n \u001b[38;5;241m=\u001b[39m n \u001b[38;5;241m/\u001b[39m\u001b[38;5;241m/\u001b[39m \u001b[38;5;241m10\u001b[39m\n\u001b[1;32m      6\u001b[0m     \u001b[38;5;28;01mreturn\u001b[39;00m \u001b[38;5;28msum\u001b[39m\n\u001b[0;32m----> 8\u001b[0m get_sum(\u001b[38;5;241m123\u001b[39m)\n",
      "Cell \u001b[0;32mIn[51], line 4\u001b[0m, in \u001b[0;36mget_sum\u001b[0;34m(n)\u001b[0m\n\u001b[1;32m      2\u001b[0m \u001b[38;5;28msum\u001b[39m \u001b[38;5;241m=\u001b[39m \u001b[38;5;241m0\u001b[39m\n\u001b[1;32m      3\u001b[0m \u001b[38;5;28;01mwhile\u001b[39;00m n \u001b[38;5;241m!=\u001b[39m \u001b[38;5;241m0\u001b[39m:\n\u001b[0;32m----> 4\u001b[0m     \u001b[38;5;28msum\u001b[39m \u001b[38;5;241m=\u001b[39m \u001b[38;5;28msum\u001b[39m \u001b[38;5;241m+\u001b[39m d\n\u001b[1;32m      5\u001b[0m     n \u001b[38;5;241m=\u001b[39m n \u001b[38;5;241m/\u001b[39m\u001b[38;5;241m/\u001b[39m \u001b[38;5;241m10\u001b[39m\n\u001b[1;32m      6\u001b[0m \u001b[38;5;28;01mreturn\u001b[39;00m \u001b[38;5;28msum\u001b[39m\n",
      "\u001b[0;31mNameError\u001b[0m: name 'd' is not defined"
     ]
    }
   ],
   "source": [
    "def get_sum(n):\n",
    "    sum = 0\n",
    "    while n != 0:\n",
    "        sum = sum + d\n",
    "        n = n // 10\n",
    "    return sum\n",
    "\n",
    "get_sum(123)\n",
    "\n"
   ]
  },
  {
   "cell_type": "code",
   "execution_count": null,
   "id": "a1599bbb-d6d5-458e-8ff5-6bb2e942ec5c",
   "metadata": {},
   "outputs": [],
   "source": []
  },
  {
   "cell_type": "code",
   "execution_count": null,
   "id": "607fcab2-7195-41ae-b113-99d44dcb17aa",
   "metadata": {},
   "outputs": [],
   "source": []
  },
  {
   "cell_type": "code",
   "execution_count": 25,
   "id": "dce3ae07-b759-418d-967d-65e27b8f55ea",
   "metadata": {},
   "outputs": [],
   "source": [
    "def get_sum(n):\n",
    "    sum=0\n",
    "    for digit in str(n):\n",
    "        sum+=int(digit)\n",
    "        return sum"
   ]
  },
  {
   "cell_type": "code",
   "execution_count": 34,
   "id": "4321ef75-540d-4dbd-a811-bb76da464a4d",
   "metadata": {},
   "outputs": [
    {
     "data": {
      "text/plain": [
       "4"
      ]
     },
     "execution_count": 34,
     "metadata": {},
     "output_type": "execute_result"
    }
   ],
   "source": [
    "get_sum(4)"
   ]
  },
  {
   "cell_type": "code",
   "execution_count": 54,
   "id": "8780aba9-199f-4409-8ee6-01cd95b91b4b",
   "metadata": {},
   "outputs": [],
   "source": [
    "def get_sum(n):\n",
    "    sum = 0\n",
    "    while n != 0:\n",
    "        sum = sum + n % 10\n",
    "        n = n // 10\n",
    "    return sum\n"
   ]
  },
  {
   "cell_type": "code",
   "execution_count": 56,
   "id": "97869099-2eb5-4c90-a633-34ea6f51c123",
   "metadata": {},
   "outputs": [
    {
     "data": {
      "text/plain": [
       "22"
      ]
     },
     "execution_count": 56,
     "metadata": {},
     "output_type": "execute_result"
    }
   ],
   "source": [
    "get_sum(4567)"
   ]
  },
  {
   "cell_type": "code",
   "execution_count": 57,
   "id": "77ab94e3-7089-419e-90e6-d9f96ecdedb6",
   "metadata": {},
   "outputs": [
    {
     "data": {
      "text/plain": [
       "12"
      ]
     },
     "execution_count": 57,
     "metadata": {},
     "output_type": "execute_result"
    }
   ],
   "source": [
    "123//10 "
   ]
  },
  {
   "cell_type": "code",
   "execution_count": 58,
   "id": "0c4431c8-29da-4483-a738-4343ed4ae5f9",
   "metadata": {},
   "outputs": [
    {
     "data": {
      "text/plain": [
       "12.3"
      ]
     },
     "execution_count": 58,
     "metadata": {},
     "output_type": "execute_result"
    }
   ],
   "source": [
    "123/10"
   ]
  },
  {
   "cell_type": "code",
   "execution_count": 60,
   "id": "5b49bd57-b87c-4f41-8051-726e73775e20",
   "metadata": {},
   "outputs": [
    {
     "data": {
      "text/plain": [
       "1"
      ]
     },
     "execution_count": 60,
     "metadata": {},
     "output_type": "execute_result"
    }
   ],
   "source": [
    "5//4"
   ]
  },
  {
   "cell_type": "code",
   "execution_count": 62,
   "id": "804a5cb2-7f8b-4135-8fe5-e02cd2e94e21",
   "metadata": {},
   "outputs": [],
   "source": [
    "def sum_digit(n):\n",
    "    if n<=9:\n",
    "        return n\n",
    "    else :\n",
    "        return n%10+sum_digit(n//10)"
   ]
  },
  {
   "cell_type": "code",
   "execution_count": 63,
   "id": "1c939210-a68d-43e8-8ff3-6700e542348f",
   "metadata": {},
   "outputs": [
    {
     "data": {
      "text/plain": [
       "6"
      ]
     },
     "execution_count": 63,
     "metadata": {},
     "output_type": "execute_result"
    }
   ],
   "source": [
    "sum_digit(123)"
   ]
  },
  {
   "cell_type": "code",
   "execution_count": 64,
   "id": "bd574e60-2203-4a74-b9a6-c33c6b22e737",
   "metadata": {},
   "outputs": [],
   "source": [
    "l=[2,3,4,2,4,6,6,7,8,7,6,55,5,4]"
   ]
  },
  {
   "cell_type": "code",
   "execution_count": 65,
   "id": "f9e76365-cedf-497d-b172-0b930b908ea3",
   "metadata": {},
   "outputs": [
    {
     "data": {
      "text/plain": [
       "55"
      ]
     },
     "execution_count": 65,
     "metadata": {},
     "output_type": "execute_result"
    }
   ],
   "source": [
    "max(l)"
   ]
  },
  {
   "cell_type": "code",
   "execution_count": 66,
   "id": "0c561b80-9067-42a5-83a4-124e7f5c4704",
   "metadata": {},
   "outputs": [
    {
     "data": {
      "text/plain": [
       "2"
      ]
     },
     "execution_count": 66,
     "metadata": {},
     "output_type": "execute_result"
    }
   ],
   "source": [
    "min(l)"
   ]
  },
  {
   "cell_type": "code",
   "execution_count": 75,
   "id": "153cb8c7-a669-4711-bee6-67cdd21ca7bd",
   "metadata": {},
   "outputs": [],
   "source": [
    "def max_find(l):\n",
    "  if len(l)==1:\n",
    "    return l[0]\n",
    "  else:\n",
    "    return max(l[0],max_find(l[1:]))"
   ]
  },
  {
   "cell_type": "code",
   "execution_count": 76,
   "id": "f5ba264e-8ad5-493e-be5f-a25fb18ee554",
   "metadata": {},
   "outputs": [
    {
     "data": {
      "text/plain": [
       "44"
      ]
     },
     "execution_count": 76,
     "metadata": {},
     "output_type": "execute_result"
    }
   ],
   "source": [
    "max_find([3,43,2,4,2,44,5])"
   ]
  },
  {
   "cell_type": "code",
   "execution_count": 77,
   "id": "243f0f8f-3a2f-449e-aab5-2165325eb29f",
   "metadata": {},
   "outputs": [
    {
     "data": {
      "text/plain": [
       "4"
      ]
     },
     "execution_count": 77,
     "metadata": {},
     "output_type": "execute_result"
    }
   ],
   "source": [
    "max_find([4])"
   ]
  },
  {
   "cell_type": "code",
   "execution_count": 80,
   "id": "1cc554f2-a570-4d18-a45f-e87248d3bcc2",
   "metadata": {},
   "outputs": [
    {
     "data": {
      "text/plain": [
       "8"
      ]
     },
     "execution_count": 80,
     "metadata": {},
     "output_type": "execute_result"
    }
   ],
   "source": [
    "pow(2,3)"
   ]
  },
  {
   "cell_type": "code",
   "execution_count": 81,
   "id": "7ca2b858-c12e-43b4-8859-367cdb4b767a",
   "metadata": {},
   "outputs": [],
   "source": [
    "def power_fun(n,k):\n",
    "    if k==0:\n",
    "        return 1\n",
    "    else:\n",
    "        return n**k"
   ]
  },
  {
   "cell_type": "code",
   "execution_count": 82,
   "id": "08646899-9c62-4d29-a240-2c27a6ef5999",
   "metadata": {},
   "outputs": [
    {
     "data": {
      "text/plain": [
       "8"
      ]
     },
     "execution_count": 82,
     "metadata": {},
     "output_type": "execute_result"
    }
   ],
   "source": [
    "power_fun(2,3)"
   ]
  },
  {
   "cell_type": "code",
   "execution_count": null,
   "id": "af8bb4d3-d7bc-4e1e-9215-781fc1f7ff84",
   "metadata": {},
   "outputs": [],
   "source": []
  }
 ],
 "metadata": {
  "kernelspec": {
   "display_name": "Python 3 (ipykernel)",
   "language": "python",
   "name": "python3"
  },
  "language_info": {
   "codemirror_mode": {
    "name": "ipython",
    "version": 3
   },
   "file_extension": ".py",
   "mimetype": "text/x-python",
   "name": "python",
   "nbconvert_exporter": "python",
   "pygments_lexer": "ipython3",
   "version": "3.11.5"
  }
 },
 "nbformat": 4,
 "nbformat_minor": 5
}
